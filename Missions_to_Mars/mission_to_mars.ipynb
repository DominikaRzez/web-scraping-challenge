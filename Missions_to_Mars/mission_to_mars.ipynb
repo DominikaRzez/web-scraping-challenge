{
 "cells": [
  {
   "cell_type": "code",
   "execution_count": null,
   "id": "1920cd3b",
   "metadata": {},
   "outputs": [],
   "source": [
    "# Dependencies\n",
    "import pandas as pd\n",
    "from bs4 import BeautifulSoup as bs\n",
    "from splinter import Browser\n",
    "from webdriver_manager.chrome import ChromeDriverManager\n",
    "import requests"
   ]
  },
  {
   "cell_type": "markdown",
   "id": "125761b2",
   "metadata": {},
   "source": [
    "<h1>NASA Mars News</h1>"
   ]
  },
  {
   "cell_type": "code",
   "execution_count": null,
   "id": "2128e70f",
   "metadata": {},
   "outputs": [],
   "source": [
    "# Setup splinter\n",
    "executable_path = {'executable_path': ChromeDriverManager().install()}\n",
    "browser = Browser('chrome', **executable_path, headless=False)"
   ]
  },
  {
   "cell_type": "code",
   "execution_count": null,
   "id": "6aa280be",
   "metadata": {},
   "outputs": [],
   "source": [
    "# Define url address\n",
    "url = 'https://redplanetscience.com/'\n",
    "browser.visit(url)"
   ]
  },
  {
   "cell_type": "code",
   "execution_count": null,
   "id": "b33b61fc",
   "metadata": {},
   "outputs": [],
   "source": [
    "# Find title and paragraph\n",
    "html = browser.html\n",
    "soup = bs(html, 'html.parser')\n",
    "\n",
    "# Saving only first element to collect the latest data\n",
    "title = soup.find_all('div', class_='content_title')[0].text\n",
    "para = soup.find_all('div', class_='article_teaser_body')[0].text"
   ]
  },
  {
   "cell_type": "code",
   "execution_count": null,
   "id": "e9927c21",
   "metadata": {},
   "outputs": [],
   "source": [
    "print(f'Title: {title},\\nParagraph: {para}')"
   ]
  },
  {
   "cell_type": "markdown",
   "id": "5b4f50d3",
   "metadata": {},
   "source": [
    "<h1>JPL Mars Space Images - Featured Image</h1>"
   ]
  },
  {
   "cell_type": "code",
   "execution_count": null,
   "id": "8011ca40",
   "metadata": {},
   "outputs": [],
   "source": [
    "# Define url address\n",
    "url = 'https://spaceimages-mars.com/'\n",
    "browser.visit(url)"
   ]
  },
  {
   "cell_type": "code",
   "execution_count": null,
   "id": "c24dc9bc",
   "metadata": {},
   "outputs": [],
   "source": [
    "# Find image source\n",
    "html = browser.html\n",
    "soup = bs(html, 'html.parser')\n",
    "\n",
    "img_src = soup.find_all('img')[1][\"src\"]"
   ]
  },
  {
   "cell_type": "code",
   "execution_count": null,
   "id": "689a595b",
   "metadata": {},
   "outputs": [],
   "source": [
    "# Combine base url with image source to get images url\n",
    "featured_image_url = url + img_src\n",
    "featured_image_url"
   ]
  },
  {
   "cell_type": "markdown",
   "id": "a9c06593",
   "metadata": {},
   "source": [
    "<h1>Mars Facts</h1>"
   ]
  },
  {
   "cell_type": "code",
   "execution_count": null,
   "id": "16da3711",
   "metadata": {},
   "outputs": [],
   "source": [
    "# Define url\n",
    "url = 'https://galaxyfacts-mars.com/'"
   ]
  },
  {
   "cell_type": "code",
   "execution_count": null,
   "id": "4d527922",
   "metadata": {},
   "outputs": [],
   "source": [
    "# Use Pandas to scrape through the table\n",
    "table = pd.read_html(url)\n",
    "table"
   ]
  },
  {
   "cell_type": "code",
   "execution_count": null,
   "id": "ecb35e26",
   "metadata": {},
   "outputs": [],
   "source": [
    "# Cleaning the table\n",
    "df = table[1]\n",
    "df2 = df.set_index(keys=0)\n",
    "df2.index.name=None\n",
    "df2.columns = [''] * len(df2.columns)\n",
    "df2"
   ]
  },
  {
   "cell_type": "code",
   "execution_count": null,
   "id": "e1478880",
   "metadata": {},
   "outputs": [],
   "source": [
    "# Generating html table from DataFrame\n",
    "html_table = df2.to_html(header=False)\n",
    "html_table"
   ]
  },
  {
   "cell_type": "code",
   "execution_count": null,
   "id": "08ac1b79",
   "metadata": {},
   "outputs": [],
   "source": [
    "# Striping unwanted newlines to clean up the table\n",
    "html_table.replace('\\n', '')"
   ]
  },
  {
   "cell_type": "code",
   "execution_count": null,
   "id": "15426bbe",
   "metadata": {},
   "outputs": [],
   "source": [
    "# Saving html to a file\n",
    "df2.to_html('table.html')"
   ]
  },
  {
   "cell_type": "markdown",
   "id": "fd0eb05d",
   "metadata": {},
   "source": [
    "<h1>Mars Hemispheres</h1>"
   ]
  },
  {
   "cell_type": "code",
   "execution_count": null,
   "id": "8e0aaa8b",
   "metadata": {},
   "outputs": [],
   "source": [
    "# Define url address\n",
    "url = 'https://marshemispheres.com/'\n",
    "browser.visit(url)"
   ]
  },
  {
   "cell_type": "code",
   "execution_count": null,
   "id": "db4f9eec",
   "metadata": {},
   "outputs": [],
   "source": [
    "img_src = []\n",
    "for x in range (4):\n",
    "    # HTML object\n",
    "    html = browser.html\n",
    "    # Parse HTML with Beautiful Soup\n",
    "    soup = bs(html, 'html.parser')\n",
    "    # Retrieve link to image url\n",
    "    href = soup.find_all('a', class_='itemLink')[x]['href']\n",
    "    img_url = url + href\n",
    "    img_src.append(img_url)"
   ]
  }
 ],
 "metadata": {
  "kernelspec": {
   "display_name": "Python 3",
   "language": "python",
   "name": "python3"
  },
  "language_info": {
   "codemirror_mode": {
    "name": "ipython",
    "version": 3
   },
   "file_extension": ".py",
   "mimetype": "text/x-python",
   "name": "python",
   "nbconvert_exporter": "python",
   "pygments_lexer": "ipython3",
   "version": "3.8.8"
  }
 },
 "nbformat": 4,
 "nbformat_minor": 5
}
